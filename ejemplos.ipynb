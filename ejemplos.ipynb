{
 "cells": [
  {
   "cell_type": "code",
   "execution_count": 1,
   "metadata": {},
   "outputs": [
    {
     "name": "stdout",
     "output_type": "stream",
     "text": [
      "[1, 2, 'tres', 4.0, 'cinco']\n",
      "1\n",
      "2\n",
      "tres\n",
      "4.0\n",
      "cinco\n"
     ]
    }
   ],
   "source": [
    "# Lista con cinco elementos\n",
    "listaVariada = [1, 2, 'tres', 4.0, \"cinco\"]\n",
    "print(listaVariada)\n",
    "print(listaVariada[0]) # Imprime 1\n",
    "print(listaVariada[1]) # Imprime 2\n",
    "print(listaVariada[2]) # Imprime tres\n",
    "print(listaVariada[3]) # Imprime 4.0\n",
    "print(listaVariada[4]) # Imprime cinco"
   ]
  },
  {
   "cell_type": "code",
   "execution_count": 3,
   "metadata": {},
   "outputs": [
    {
     "ename": "IndexError",
     "evalue": "list index out of range",
     "output_type": "error",
     "traceback": [
      "\u001b[1;31m---------------------------------------------------------------------------\u001b[0m",
      "\u001b[1;31mIndexError\u001b[0m                                Traceback (most recent call last)",
      "\u001b[1;32m~\\AppData\\Local\\Temp/ipykernel_25212/3113702932.py\u001b[0m in \u001b[0;36m<module>\u001b[1;34m\u001b[0m\n\u001b[1;32m----> 1\u001b[1;33m \u001b[0mprint\u001b[0m\u001b[1;33m(\u001b[0m\u001b[0mlistaVariada\u001b[0m\u001b[1;33m[\u001b[0m\u001b[1;36m8\u001b[0m\u001b[1;33m]\u001b[0m\u001b[1;33m)\u001b[0m\u001b[1;33m\u001b[0m\u001b[1;33m\u001b[0m\u001b[0m\n\u001b[0m",
      "\u001b[1;31mIndexError\u001b[0m: list index out of range"
     ]
    }
   ],
   "source": [
    "print(listaVariada[8])"
   ]
  },
  {
   "cell_type": "code",
   "execution_count": 4,
   "metadata": {},
   "outputs": [
    {
     "name": "stdout",
     "output_type": "stream",
     "text": [
      "[1, 2, 3, 'A', 'B', 'C']\n"
     ]
    }
   ],
   "source": [
    "lista1 = [1, 2, 3]\n",
    "lista2 = ['A', 'B', 'C']\n",
    "lista3 = lista1 + lista2\n",
    "print(lista3) # [1, 2, 3, 'A', 'B', 'C']"
   ]
  },
  {
   "cell_type": "code",
   "execution_count": 12,
   "metadata": {},
   "outputs": [
    {
     "name": "stdout",
     "output_type": "stream",
     "text": [
      "[1, 2, 3, 1, 2, 3]\n"
     ]
    }
   ],
   "source": [
    "lista1 = [1, 2, 3]\n",
    "lista4 = lista1*2\n",
    "print(lista4) # [1, 2, 3, 1, 2, 3]"
   ]
  },
  {
   "cell_type": "code",
   "execution_count": 13,
   "metadata": {},
   "outputs": [
    {
     "name": "stdout",
     "output_type": "stream",
     "text": [
      "1\n",
      "4\n",
      "5\n",
      "4\n"
     ]
    }
   ],
   "source": [
    "lista5 = [1, 2, 3, 4, 5]\n",
    "print(lista5[0]) # Imprime 1\n",
    "print(lista5[3]) # Imprime 4\n",
    "print(lista5[-1]) # Imprime 5\n",
    "print(lista5[-2]) # Imprime 4"
   ]
  },
  {
   "cell_type": "code",
   "execution_count": 15,
   "metadata": {},
   "outputs": [
    {
     "name": "stdout",
     "output_type": "stream",
     "text": [
      "False\n"
     ]
    }
   ],
   "source": [
    "lista5 = [1, 2, 3, 4, 5]\n",
    "print(8 in lista5) "
   ]
  },
  {
   "cell_type": "code",
   "execution_count": 21,
   "metadata": {},
   "outputs": [
    {
     "name": "stdout",
     "output_type": "stream",
     "text": [
      "False\n"
     ]
    }
   ],
   "source": [
    "lista5 = [1, 2, 3, 4, 5]\n",
    "bandera : bool = False\n",
    "for n in lista5:\n",
    "  if n == 6 : \n",
    "    bandera = True\n",
    "    break\n",
    "print(bandera)"
   ]
  },
  {
   "cell_type": "code",
   "execution_count": 22,
   "metadata": {},
   "outputs": [
    {
     "name": "stdout",
     "output_type": "stream",
     "text": [
      "1\n",
      "2\n",
      "3\n",
      "4\n",
      "5\n"
     ]
    }
   ],
   "source": [
    "lista5 = [1, 2, 3, 4, 5]\n",
    "for i in lista5:\n",
    "\tprint(i) "
   ]
  },
  {
   "cell_type": "code",
   "execution_count": 23,
   "metadata": {},
   "outputs": [
    {
     "name": "stdout",
     "output_type": "stream",
     "text": [
      "1\n",
      "2\n",
      "3\n",
      "4\n",
      "5\n"
     ]
    }
   ],
   "source": [
    "lista5 = [1, 2, 3, 4, 5]\n",
    "for i in range(0,len(lista5)):\n",
    "\tprint(lista5[i]) "
   ]
  },
  {
   "cell_type": "code",
   "execution_count": 26,
   "metadata": {},
   "outputs": [
    {
     "name": "stdout",
     "output_type": "stream",
     "text": [
      "1\n",
      "2\n",
      "3\n",
      "4\n",
      "5\n"
     ]
    }
   ],
   "source": [
    "lista5 = [1, 2, 3, 4, 5]\n",
    "i : int = 0\n",
    "while i < len(lista5):\n",
    "\tprint(lista5[i]) \n",
    "\ti+=1"
   ]
  },
  {
   "cell_type": "code",
   "execution_count": 27,
   "metadata": {},
   "outputs": [
    {
     "name": "stdout",
     "output_type": "stream",
     "text": [
      "[27, 64, 125, 216]\n"
     ]
    }
   ],
   "source": [
    "listaCubos = [x**3 for x in range(3,7)]\n",
    "print(listaCubos) "
   ]
  },
  {
   "cell_type": "code",
   "execution_count": null,
   "metadata": {},
   "outputs": [],
   "source": [
    "lista_cubos = []\n",
    "for x in range(3,7):\n",
    "    lista_cubos.append(x**3)"
   ]
  },
  {
   "cell_type": "code",
   "execution_count": null,
   "metadata": {},
   "outputs": [],
   "source": [
    "[9, 64, 125, 216]"
   ]
  },
  {
   "cell_type": "code",
   "execution_count": 33,
   "metadata": {},
   "outputs": [
    {
     "name": "stdout",
     "output_type": "stream",
     "text": [
      "[3, 4, 5, 6]\n",
      "27\n",
      "64\n",
      "125\n",
      "216\n",
      "[27, 64, 125, 216]\n"
     ]
    }
   ],
   "source": [
    "listaCubos = list(range(3,7)) # Dolor\n",
    "print(listaCubos)\n",
    "for i in range(len(listaCubos)):\n",
    "    listaCubos[i] = listaCubos[i]**3\n",
    "print(listaCubos)"
   ]
  },
  {
   "cell_type": "code",
   "execution_count": 34,
   "metadata": {},
   "outputs": [
    {
     "name": "stdout",
     "output_type": "stream",
     "text": [
      "4\n",
      "2\n",
      "3\n",
      "0\n"
     ]
    }
   ],
   "source": [
    "lista = [1, 2, 3, 4]\n",
    "nombre = [\"Minch\", \"Yoda\"]\n",
    "trabajo = [\"Stars\", \"War\", \"Movie\"]\n",
    "empty = []\n",
    "print(len(lista))\n",
    "print(len(nombre))\n",
    "print(len(trabajo))\n",
    "print(len(empty))"
   ]
  },
  {
   "cell_type": "code",
   "execution_count": 35,
   "metadata": {},
   "outputs": [
    {
     "name": "stdout",
     "output_type": "stream",
     "text": [
      "['Antonio', 'Johan', 'Monica']\n",
      "['Antonio', 'Johan', 'Monica', 'Maria']\n",
      "['Antonio', 'Johan', 'Monica', 'Maria', 'Mabel']\n"
     ]
    }
   ],
   "source": [
    "nombres = [\"Antonio\", \"Johan\"]\n",
    "nombres.append(\"Monica\")\n",
    "print(nombres)\n",
    "nombres.append(\"Maria\")\n",
    "print(nombres)\n",
    "nombres.append(\"Mabel\")\n",
    "print(nombres)"
   ]
  },
  {
   "cell_type": "code",
   "execution_count": 36,
   "metadata": {},
   "outputs": [
    {
     "name": "stdout",
     "output_type": "stream",
     "text": [
      "['Antonio', 'Monica', 'Maria', 'Mabel']\n",
      "Mabel ha sido eliminada de la lista.\n",
      "['Antonio', 'Monica', 'Maria']\n"
     ]
    }
   ],
   "source": [
    "nombres = [\"Antonio\",\"Johan\",\"Monica\",\"Maria\",\"Mabel\"]\n",
    "nombres.pop(1) #remueve a Johan\n",
    "print(nombres)\n",
    "nombre_borrado = nombres.pop() # remueve a Mabel\n",
    "print(nombre_borrado + \" ha sido eliminada de la lista.\")\n",
    "print(nombres)\n",
    "()\n",
    "[]\n",
    "{}"
   ]
  },
  {
   "cell_type": "code",
   "execution_count": 37,
   "metadata": {},
   "outputs": [
    {
     "name": "stdout",
     "output_type": "stream",
     "text": [
      "Antonio, Monica, Maria, "
     ]
    }
   ],
   "source": [
    "for nombre in nombres:\n",
    "    print(nombre, end=\", \")"
   ]
  },
  {
   "cell_type": "code",
   "execution_count": 39,
   "metadata": {},
   "outputs": [
    {
     "name": "stdout",
     "output_type": "stream",
     "text": [
      "Antonio, Monica, Maria\n"
     ]
    }
   ],
   "source": [
    "print(\", \".join(nombres))"
   ]
  },
  {
   "cell_type": "code",
   "execution_count": 40,
   "metadata": {},
   "outputs": [
    {
     "name": "stdout",
     "output_type": "stream",
     "text": [
      "['Guttag', 'Antonio', 'Johan', 'Maria']\n",
      "['Guttag', 'Antonio', 'Peter', 'Johan', 'Maria']\n",
      "['Guttag', 'Antonio', 10, 'Peter', 'Johan', 'Maria']\n"
     ]
    }
   ],
   "source": [
    "nombres = [\"Antonio\", \"Johan\", \"Maria\"]\n",
    "nombres.insert(0, \"Guttag\")\n",
    "print(nombres)\n",
    "nombres.insert(2, \"Peter\")\n",
    "print(nombres)\n",
    "nombres.insert(len(nombres)//2, 10)\n",
    "print(nombres)"
   ]
  },
  {
   "cell_type": "code",
   "execution_count": 41,
   "metadata": {},
   "outputs": [
    {
     "name": "stdout",
     "output_type": "stream",
     "text": [
      "['a', 'e', 'i', 'o', 'u', 'i']\n",
      "['a', 'e', 'o', 'u', 'i']\n",
      "['a', 'e', 'o', 'u']\n"
     ]
    }
   ],
   "source": [
    "lista = [\"a\", \"e\", \"i\", \"o\", \"u\", \"i\", \"x\"]\n",
    "lista.remove(\"x\")\n",
    "print(lista)\n",
    "lista.remove(\"i\")\n",
    "print(lista)\n",
    "lista.remove(\"i\")\n",
    "print(lista)"
   ]
  },
  {
   "cell_type": "code",
   "execution_count": 42,
   "metadata": {},
   "outputs": [
    {
     "name": "stdout",
     "output_type": "stream",
     "text": [
      "1\n",
      "3\n",
      "1\n",
      "0\n"
     ]
    }
   ],
   "source": [
    "lista = [4, 3, 8, 8, 2, 5, 4, 6, 8, 9]\n",
    "print(lista.count(2))\n",
    "print(lista.count(8))\n",
    "print(lista.count(5))\n",
    "print(lista.count(7))"
   ]
  },
  {
   "cell_type": "code",
   "execution_count": 45,
   "metadata": {},
   "outputs": [
    {
     "name": "stdout",
     "output_type": "stream",
     "text": [
      "4\n",
      "2\n",
      "El valor no se encuentra en la lista\n"
     ]
    }
   ],
   "source": [
    "lista = [4, 3, 8, 8, 2, 5, 4, 6, 8, 9]\n",
    "try:\n",
    "    print(lista.index(2))\n",
    "    print(lista.index(8))\n",
    "    print(lista.index(1))\n",
    "except ValueError: \n",
    "    print(\"El valor no se encuentra en la lista\")"
   ]
  },
  {
   "cell_type": "code",
   "execution_count": 48,
   "metadata": {},
   "outputs": [
    {
     "name": "stdout",
     "output_type": "stream",
     "text": [
      "[-1, 4, 5, 6, 7] [4, 5, -1, 6, 7]\n",
      "[-1, 4, 5, 6, 7]\n",
      "[7, 6, 5, 4, -1]\n"
     ]
    }
   ],
   "source": [
    "lista = [4, 5, -1, 6, 7]\n",
    "print(sorted(lista), lista)\n",
    "lista.sort() # De menor a mayor\n",
    "print(lista)\n",
    "lista.sort(reverse = True) # De mayor a menor\n",
    "print(lista)"
   ]
  }
 ],
 "metadata": {
  "kernelspec": {
   "display_name": "Python 3",
   "language": "python",
   "name": "python3"
  },
  "language_info": {
   "codemirror_mode": {
    "name": "ipython",
    "version": 3
   },
   "file_extension": ".py",
   "mimetype": "text/x-python",
   "name": "python",
   "nbconvert_exporter": "python",
   "pygments_lexer": "ipython3",
   "version": "3.8.9"
  }
 },
 "nbformat": 4,
 "nbformat_minor": 2
}
